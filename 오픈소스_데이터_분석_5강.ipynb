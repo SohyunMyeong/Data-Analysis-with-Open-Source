{
  "nbformat": 4,
  "nbformat_minor": 0,
  "metadata": {
    "colab": {
      "provenance": [],
      "include_colab_link": true
    },
    "kernelspec": {
      "name": "python3",
      "display_name": "Python 3"
    },
    "language_info": {
      "name": "python"
    }
  },
  "cells": [
    {
      "cell_type": "markdown",
      "metadata": {
        "id": "view-in-github",
        "colab_type": "text"
      },
      "source": [
        "<a href=\"https://colab.research.google.com/github/SohyunMyeong/Data-Analysis-with-Open-Source/blob/main/%EC%98%A4%ED%94%88%EC%86%8C%EC%8A%A4_%EB%8D%B0%EC%9D%B4%ED%84%B0_%EB%B6%84%EC%84%9D_5%EA%B0%95.ipynb\" target=\"_parent\"><img src=\"https://colab.research.google.com/assets/colab-badge.svg\" alt=\"Open In Colab\"/></a>"
      ]
    },
    {
      "cell_type": "markdown",
      "source": [
        "# 오픈소스 기반 데이터 분석 5강 - 데이터 저장"
      ],
      "metadata": {
        "id": "O4kC4JMknVnK"
      }
    },
    {
      "cell_type": "markdown",
      "source": [
        "## 5-1 CSV 형식 저장"
      ],
      "metadata": {
        "id": "8DfV0cZLqj_s"
      }
    },
    {
      "cell_type": "code",
      "source": [
        "#CSV 파일로 파이썬에 있는 객체를 데이터 프레임으로 바꾼 후 그걸 저장\n",
        "#pandas 이용\n",
        "import pandas as pd\n",
        "\n",
        "data = {\n",
        "    'student_id': [101, 102, 103, 104, 105],\n",
        "    'database_score': [85, 76, 92, 63, 88],\n",
        "    'cloudcomputing_score': [78, 82, 95, 70, 84],\n",
        "    'python_score': [92, 78, 85, 75, 91],\n",
        "    'watch_rate': [0.95, 0.87, 0.99, 0.80, 0.93]\n",
        "}\n",
        "## DataFrame 생성\n",
        "df = pd.DataFrame(data)\n",
        "\n",
        "## CSV 형식 저장\n",
        "df.to_csv('student_analysis.csv', encoding='utf-8', index=False)"
      ],
      "metadata": {
        "id": "DztLRI9gW2lk"
      },
      "execution_count": 4,
      "outputs": []
    },
    {
      "cell_type": "markdown",
      "source": [
        "## 5-2 JSON 형식 저장"
      ],
      "metadata": {
        "id": "CSABzaf3q8XU"
      }
    },
    {
      "cell_type": "code",
      "source": [
        "### 라이브러리 임포트\n",
        "import json\n",
        "import pandas as pd\n",
        "\n",
        "# JSON 파일로 저장하기\n",
        "# data 딕셔너리 형태로 만들어져있음.\n",
        "data = {\n",
        "    \"이름\": \"홍길동\",\n",
        "    \"나이\": 25,\n",
        "    \"거주지\": \"서울\",\n",
        "    \"관심사\": [\"프로그래밍\", \"데이터 분석\", \"여행\"]\n",
        "}\n",
        "\n",
        "## json.dump를 이용한 저장\n",
        "# 파일로 저장하기 위해 파일 열기\n",
        "with open('output.json', mode='w', encoding='utf-8') as f:\n",
        "    # f는 파일에 저장할 것, indent 들여쓰기(없으면 계층이 없어 나중에 눈으로 보기 쉽지 않음)\n",
        "    # json 기본적으로 한글저장하지 않음. 아스키 코드만 저장 하게 되어있음.\n",
        "    json.dump(data, f,indent=4, ensure_ascii=False)\n",
        "## DataFrame을 이용한 저장\n",
        "# json.dump와 모양이 다름. 이유: 관심사가 값이 세 개이기 때문에 세 행에 대한 데이터를 json객체로 만들어\n",
        "# 보여주기 떄문에 세 개가 표현 됨.\n",
        "\n",
        "# orient를 컬럼으로 할 때에는 data하나의 객체지만 객체에 대한 여러 개의 정보를 보여주고 있음\n",
        "# 그래서, data를 리스트로 묶어줘야 정상적으로 컬럼이 분절이 됨\n",
        "# 딕셔너리 그냥 데이터 프레임으로 변환할 수 있고 리스트 변환 후 데이터 프레임으로 변환할 수도 있음\n",
        "# 레코드 단위로 저장 할 때에는 하나의 사람(홍길동)에 대한 정보의 단위로 묶이고\n",
        "# 컬럼은 컬럼단위로 하나의 객세씩 보여지게 됨.\n",
        "df = pd.DataFrame([data])\n",
        "\n",
        "# ensure_ascii, force_ascii 같은 기능을 하지만 이름이 다름.\n",
        "df.to_json('output_df.json', orient='columns', indent=4, force_ascii=False)\n"
      ],
      "metadata": {
        "id": "7bAgRpizW7Vj"
      },
      "execution_count": 7,
      "outputs": []
    },
    {
      "cell_type": "markdown",
      "source": [
        "## 5-3 Pandas Dataframe 데이터 추출"
      ],
      "metadata": {
        "id": "NMlsQDHtrA_x"
      }
    },
    {
      "cell_type": "code",
      "source": [
        "import pandas as pd\n",
        "\n",
        "data = {\n",
        "    \"이름\": [\"김철수\", \"이영희\", \"박민수\", \"최지훈\", \"정소희\"],\n",
        "    \"학년\": [1, 2, 3, 4, 2],\n",
        "    \"학점\": [4.2, 3.8, 4.5, 3.9, 3.5],\n",
        "    \"학과\": [\"컴퓨터학\", \"경영학\", \"농학\", \"교육학\", \"영어영문학\"],\n",
        "    \"동아리\": [\"프로그래밍\", \"독서토론\", \"로봇공학\", \"봉사활동\", \"음악감상\"]\n",
        "}\n",
        "df = pd.DataFrame(data)\n",
        "df\n",
        "\n",
        "## DataFrame 인덱스 출력\n",
        "print(df.index)\n",
        "\n",
        "## DataFrame 컬럼 출력\n",
        "print(df.columns)\n",
        "\n",
        "## DataFrame 행 출력\n",
        "print(df.values.tolist())\n",
        "# 내부적으로 큰 차이 없으나 df.valuse는 NumPy의 array 형태 valuse.tolist()는 파이썬의 array 형태\n",
        "print(df.values)\n",
        "\n",
        "## DataFrame 값 출력(구조화 되어있는 걸 구조를 뭉개고 쭉 일렬로 나열= 값들을 하나하나 따로따로 나열)\n",
        "print(df.values.flatten())\n"
      ],
      "metadata": {
        "id": "dk3xneVAW9_g",
        "outputId": "50f87c16-2976-4fe8-b026-a12b193c5dd9",
        "colab": {
          "base_uri": "https://localhost:8080/"
        }
      },
      "execution_count": 12,
      "outputs": [
        {
          "output_type": "stream",
          "name": "stdout",
          "text": [
            "RangeIndex(start=0, stop=5, step=1)\n",
            "Index(['이름', '학년', '학점', '학과', '동아리'], dtype='object')\n",
            "[['김철수', 1, 4.2, '컴퓨터학', '프로그래밍'], ['이영희', 2, 3.8, '경영학', '독서토론'], ['박민수', 3, 4.5, '농학', '로봇공학'], ['최지훈', 4, 3.9, '교육학', '봉사활동'], ['정소희', 2, 3.5, '영어영문학', '음악감상']]\n",
            "[['김철수' 1 4.2 '컴퓨터학' '프로그래밍']\n",
            " ['이영희' 2 3.8 '경영학' '독서토론']\n",
            " ['박민수' 3 4.5 '농학' '로봇공학']\n",
            " ['최지훈' 4 3.9 '교육학' '봉사활동']\n",
            " ['정소희' 2 3.5 '영어영문학' '음악감상']]\n",
            "['김철수' 1 4.2 '컴퓨터학' '프로그래밍' '이영희' 2 3.8 '경영학' '독서토론' '박민수' 3 4.5 '농학'\n",
            " '로봇공학' '최지훈' 4 3.9 '교육학' '봉사활동' '정소희' 2 3.5 '영어영문학' '음악감상']\n"
          ]
        }
      ]
    },
    {
      "cell_type": "markdown",
      "source": [
        "## 5-4 DataFrame 생성 방법"
      ],
      "metadata": {
        "id": "ILJd1GLoseqm"
      }
    },
    {
      "cell_type": "code",
      "source": [
        "import pandas as pd\n",
        "import json\n",
        "\n",
        "data = {\n",
        "    \"이름\": [\"김철수\", \"이영희\", \"박민수\", \"최지훈\", \"정소희\"],\n",
        "    \"학년\": [1, 2, 3, 4, 2],\n",
        "    \"학점\": [4.2, 3.8, 4.5, 3.9, 3.5],\n",
        "    \"학과\": [\"컴퓨터공학\", \"경영학\", \"전자공학\", \"의학\", \"심리학\"],\n",
        "    \"동아리\": [\"프로그래밍\", \"독서토론\", \"로봇공학\", \"봉사활동\", \"음악감상\"]\n",
        "}\n",
        "\n",
        "## 딕셔너리, csv, json으로 부터 DataFrame 생성\n",
        "# df1 = pd.DataFrame(data)이렇게 해도 되고 딕셔너리로 부터 만들어진다 라고 명시적으로 하기 위해서는 아래와 같이\n",
        "df1 = pd.DataFrame.from_dict(data)\n",
        "df2 = pd.read_csv('students.csv')\n",
        "df3 = pd.read_json('students.json')\n",
        "\n",
        "## 세가지 방법 결과 비교\n",
        "# dataFrame 가로, 세로 행과 열로 된 하나의 행렬, 일종의 표 처럼 생김\n",
        "# shape는 세로로 몇 개의 행이 있는지 가로로 몇 개의 열이 있는지 나타내 줌\n",
        "print(df1.shape)\n",
        "print(df2.shape)\n",
        "print(df3.shape)\n"
      ],
      "metadata": {
        "id": "ISnPLEgNXAmi",
        "outputId": "eda725a9-04c6-43eb-a24c-46606cdfd17b",
        "colab": {
          "base_uri": "https://localhost:8080/"
        }
      },
      "execution_count": 13,
      "outputs": [
        {
          "output_type": "stream",
          "name": "stdout",
          "text": [
            "(5, 5)\n",
            "(5, 5)\n",
            "(5, 5)\n"
          ]
        }
      ]
    },
    {
      "cell_type": "markdown",
      "source": [
        "## 5-5 DataFrame 저장 방법"
      ],
      "metadata": {
        "id": "z1N6lAnwsdyU"
      }
    },
    {
      "cell_type": "code",
      "source": [
        "# dataFrame 형식으로 다양한 방법으로 저장하기\n",
        "import pandas as pd\n",
        "\n",
        "data = {\n",
        "    \"이름\": [\"김철수\", \"이영희\", \"박민수\", \"최지훈\", \"정소희\"],\n",
        "    \"학년\": [1, 2, 3, 4, 2],\n",
        "    \"학점\": [4.2, 3.8, 4.5, 3.9, 3.5],\n",
        "    \"학과\": [\"컴퓨터공학\", \"경영학\", \"전자공학\", \"의학\", \"심리학\"],\n",
        "    \"동아리\": [\"프로그래밍\", \"독서토론\", \"로봇공학\", \"봉사활동\", \"음악감상\"]\n",
        "}\n",
        "\n",
        "## Dataframe 생성\n",
        "df1 = pd.DataFrame(data)\n",
        "\n",
        "## CSV, JSON 형식으로 저장\n",
        "df.to_csv('students_scores.csv')\n",
        "df.to_json('students_scores.json')\n",
        "\n",
        "## HTML 형식으로 저장\n",
        "# html 텍스트를 만들어 보고 그것을 파일로 저장\n",
        "# 데이터프레임이 html 파일로 바뀐 것\n",
        "html_table = df.to_html()\n",
        "print(html_table)\n",
        "# html 파일로 저장\n",
        "# html 파일을 pc로 다운로드 한 후에 웹 브라우저로 열면 표 처럼 보이는 걸 확인해 볼 수 있음\n",
        "with open('students_scores.html', 'w') as f:\n",
        "    f.write(html_table)"
      ],
      "metadata": {
        "id": "_dqoWCRoXDrJ",
        "outputId": "55de4d30-57a0-4c4a-ad51-1011099d9545",
        "colab": {
          "base_uri": "https://localhost:8080/"
        }
      },
      "execution_count": 15,
      "outputs": [
        {
          "output_type": "stream",
          "name": "stdout",
          "text": [
            "<table border=\"1\" class=\"dataframe\">\n",
            "  <thead>\n",
            "    <tr style=\"text-align: right;\">\n",
            "      <th></th>\n",
            "      <th>이름</th>\n",
            "      <th>학년</th>\n",
            "      <th>학점</th>\n",
            "      <th>학과</th>\n",
            "      <th>동아리</th>\n",
            "    </tr>\n",
            "  </thead>\n",
            "  <tbody>\n",
            "    <tr>\n",
            "      <th>0</th>\n",
            "      <td>김철수</td>\n",
            "      <td>1</td>\n",
            "      <td>4.2</td>\n",
            "      <td>컴퓨터학</td>\n",
            "      <td>프로그래밍</td>\n",
            "    </tr>\n",
            "    <tr>\n",
            "      <th>1</th>\n",
            "      <td>이영희</td>\n",
            "      <td>2</td>\n",
            "      <td>3.8</td>\n",
            "      <td>경영학</td>\n",
            "      <td>독서토론</td>\n",
            "    </tr>\n",
            "    <tr>\n",
            "      <th>2</th>\n",
            "      <td>박민수</td>\n",
            "      <td>3</td>\n",
            "      <td>4.5</td>\n",
            "      <td>농학</td>\n",
            "      <td>로봇공학</td>\n",
            "    </tr>\n",
            "    <tr>\n",
            "      <th>3</th>\n",
            "      <td>최지훈</td>\n",
            "      <td>4</td>\n",
            "      <td>3.9</td>\n",
            "      <td>교육학</td>\n",
            "      <td>봉사활동</td>\n",
            "    </tr>\n",
            "    <tr>\n",
            "      <th>4</th>\n",
            "      <td>정소희</td>\n",
            "      <td>2</td>\n",
            "      <td>3.5</td>\n",
            "      <td>영어영문학</td>\n",
            "      <td>음악감상</td>\n",
            "    </tr>\n",
            "  </tbody>\n",
            "</table>\n"
          ]
        }
      ]
    },
    {
      "cell_type": "markdown",
      "source": [
        "## 5-6 실습 시나리오"
      ],
      "metadata": {
        "id": "ifBFAyulsdJb"
      }
    },
    {
      "cell_type": "markdown",
      "source": [
        "## 데이터 수집"
      ],
      "metadata": {
        "id": "muFj6okKyXy6"
      }
    },
    {
      "cell_type": "code",
      "source": [
        "import requests\n",
        "\n",
        "url = \"http://apis.data.go.kr/B552584/ArpltnInforInqireSvc/getMinuDustFrcstDspth\"\n",
        "api_key = '[발급받은 인증키]'\n",
        "\n",
        "params = {\n",
        "    'serviceKey': api_key,\n",
        "    'returnType': 'json',\n",
        "    'numOfRows': '100',\n",
        "    'pageNo': '1',\n",
        "    'sidoName': '서울',\n",
        "    'ver': '1.0'\n",
        "}\n",
        "\n",
        "## 데이터 수집\n",
        "response = requests.get(url, params=params)\n",
        "\n",
        "## 호출 성공/실패 출력\n",
        "\n"
      ],
      "metadata": {
        "id": "7yCozmQeXJcO"
      },
      "execution_count": null,
      "outputs": []
    },
    {
      "cell_type": "markdown",
      "source": [
        "## 데이터 프레임 생성"
      ],
      "metadata": {
        "id": "d6mT4IxkySzI"
      }
    },
    {
      "cell_type": "code",
      "source": [
        "import pandas as pd\n",
        "\n",
        "## requests로부터 response, body, item 항목 읽기\n",
        "\n"
      ],
      "metadata": {
        "id": "HOOo9qTsXLkB"
      },
      "execution_count": null,
      "outputs": []
    },
    {
      "cell_type": "markdown",
      "source": [
        "## 다양항 형식으로 데이터 저장\n"
      ],
      "metadata": {
        "id": "vVG0HYb0ymeM"
      }
    },
    {
      "cell_type": "code",
      "source": [
        "df.to_csv('air_pollution.csv', index=False, encoding='utf-8')\n",
        "\n",
        "## JSON 형식 데이터 저장\n",
        "\n",
        "## EXCEL 형식 데이터 저장\n",
        "\n",
        "## HTML 형식 데이터 저장\n"
      ],
      "metadata": {
        "id": "HW1ZodpgXNhG"
      },
      "execution_count": null,
      "outputs": []
    }
  ]
}