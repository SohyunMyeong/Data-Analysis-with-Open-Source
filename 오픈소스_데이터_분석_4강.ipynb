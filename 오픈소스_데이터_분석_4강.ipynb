{
  "nbformat": 4,
  "nbformat_minor": 0,
  "metadata": {
    "colab": {
      "provenance": [],
      "include_colab_link": true
    },
    "kernelspec": {
      "name": "python3",
      "display_name": "Python 3"
    },
    "language_info": {
      "name": "python"
    }
  },
  "cells": [
    {
      "cell_type": "markdown",
      "metadata": {
        "id": "view-in-github",
        "colab_type": "text"
      },
      "source": [
        "<a href=\"https://colab.research.google.com/github/SohyunMyeong/Data-Analysis-with-Open-Source/blob/main/%EC%98%A4%ED%94%88%EC%86%8C%EC%8A%A4_%EB%8D%B0%EC%9D%B4%ED%84%B0_%EB%B6%84%EC%84%9D_4%EA%B0%95.ipynb\" target=\"_parent\"><img src=\"https://colab.research.google.com/assets/colab-badge.svg\" alt=\"Open In Colab\"/></a>"
      ]
    },
    {
      "cell_type": "markdown",
      "source": [
        "\n",
        "\n",
        "# 오픈소스 기반 데이터 분석 4강 - 데이터 수집\n"
      ],
      "metadata": {
        "id": "DkPKaAsoRq5Q"
      }
    },
    {
      "cell_type": "markdown",
      "source": [
        "## 4-1 CSV 파일 읽기"
      ],
      "metadata": {
        "id": "-I7BVVlnRrB0"
      }
    },
    {
      "cell_type": "code",
      "source": [
        "import pandas as pd\n",
        "\n",
        "## data.csv 파일 읽기\n",
        "# 글자 깨짐 방지하기 위해 encoding 옵션 넣기\n",
        "# csv파일은 각각의 데이터 요소들이 , 구분자로 구분\n",
        "# csv는 구글 코랩에서는 엑설처럼 보이지만 실질적으로는 텍스트 파일이고 각각의 값이 ,로 구분된 연속이라고 보면 됨\n",
        "# 제목에 해당하는 줄(=스키마 라고 함)이 한 줄 띄고 그 다음 줄에 썼을 때 눈으로 볼 때 더 편안할 수 있음 그런 경우에는\n",
        "# header가 첫번쨰 줄이 아닌 여러번째 줄에 있을 수 있음 그런 경우를 대비하기 위해 header 옵션 통해 지정\n",
        "# 여러 줄에 header가 있으면 그 값을 1, 2 등으로 바꿔 주는 것\n",
        "# 그 이후 옵션들 그 외에 불필요한 몇몇개의 행을 뛰어 넘고 읽으려고 할 때 사용하는 옵션\n",
        "# 이러한 옵션들 항상 쓰이는건 아니지만 파일이 정상적으로 읽히지 않을 때 사용할 수 있어야 함\n",
        "# 아래 옵션들 해당하는 옵션들의 기본 값이기 때문에 옵션 없을 때와 똑같은 결과 나옴\n",
        "df = pd.read_csv('data.csv', encoding='utf-8', sep = ',', header=0,\n",
        "                 index_col=None, skiprows=None, nrows=None )\n",
        "\n",
        "print(df)"
      ],
      "metadata": {
        "id": "2Y2HEiaiRwAI",
        "colab": {
          "base_uri": "https://localhost:8080/"
        },
        "outputId": "ba761dd1-8a06-487a-e8c4-9e7f23e832bb"
      },
      "execution_count": null,
      "outputs": [
        {
          "output_type": "stream",
          "name": "stdout",
          "text": [
            "           날짜    체중  골격근량  체지방량\n",
            "0  2025.02.06  64.7  30.0  11.1\n",
            "1  2025.02.04  64.0  29.3  11.6\n"
          ]
        }
      ]
    },
    {
      "cell_type": "markdown",
      "source": [
        "## 4-2 JSON 파일 읽기\n",
        "\n"
      ],
      "metadata": {
        "id": "9kHCFaGlRrE0"
      }
    },
    {
      "cell_type": "code",
      "source": [
        "import json\n",
        "import pandas as pd\n",
        "\n",
        "# JSON 자바스크립트언어에서 객체를 기록하기 위한 텍스트 형식\n",
        "\n",
        "## data.json 파일 출력\n",
        "# 파일을 읽은 다음 텍스트 파일로 읽어서 json Library로 로드하는 경우\n",
        "# 파일을 읽고 파이썬안에 내장되어있는 제이슨 라이브러리를 통해 읽기\n",
        "# 파이썬 파일 열기\n",
        "# 연 파일 객체의 이름을 as뒤에 기술\n",
        "\n",
        "with open('data.json', mode='r', encoding='utf-8') as f:\n",
        "    # json으로 읽어들인 파일을 객체화 하기 위해 load()함수\n",
        "    # 첫번째 인자로서 앞에서 열었던 파일 f 넣어주면 됨, data에 저장\n",
        "    # jsonlines 파일처럼 한줄로 쭉 읽힘.\n",
        "    data = json.load(f)\n",
        "print(data)\n",
        "\n",
        "## data.json 파일 DataFrame 읽기\n",
        "# 파일을 읽은 다음 DataFrame으로 만든 것 => 출력했더니 관계형 데이터베이스의 테이블 모양으로 나옴\n",
        "# json 파일을 기록할 때 크게 두 가지로 나뉘는데\n",
        "# 객체를 큰 하나의 리스트에 담아서 관리하는 방법(하나의 객체로서 파일을 만듦) =>linesfalse 보통 json파일이라고 하면 false인 파일 형식\n",
        "# or 줄별로 다른 객체들을 저장하는 방법 => jsonlines라는 포맷\n",
        "df = pd.read_json('data.json', orient='records',encoding='utf-8')\n",
        "print(df)"
      ],
      "metadata": {
        "id": "IO8bsKekR0W_",
        "colab": {
          "base_uri": "https://localhost:8080/"
        },
        "outputId": "395a2c2c-7e57-45c4-8d04-bba55db16267"
      },
      "execution_count": null,
      "outputs": [
        {
          "output_type": "stream",
          "name": "stdout",
          "text": [
            "{'매출데이터': [{'월': '2025-01', '매출액': 1000000, '비용': 700000, '이익': 300000}, {'월': '2025-02', '매출액': 1200000, '비용': 800000, '이익': 400000}, {'월': '2025-03', '매출액': 1500000, '비용': 900000, '이익': 600000}]}\n",
            "                                               매출데이터\n",
            "0  {'월': '2025-01', '매출액': 1000000, '비용': 700000,...\n",
            "1  {'월': '2025-02', '매출액': 1200000, '비용': 800000,...\n",
            "2  {'월': '2025-03', '매출액': 1500000, '비용': 900000,...\n"
          ]
        }
      ]
    },
    {
      "cell_type": "markdown",
      "source": [
        "## 4-3 텍스트 파일 읽기 및 데이터 추출"
      ],
      "metadata": {
        "id": "uLd_3A_IRrHG"
      }
    },
    {
      "cell_type": "code",
      "source": [
        "import re\n",
        "\n",
        "## 파일(callcenter20250301.log) 오픈 및 읽기\n",
        "with open('callcenter20250301.log', 'r', encoding='utf-8') as f:\n",
        "    content = f.read()\n",
        "## 주민등록번호 패턴 생성 (정규식 통해 검출)\n",
        "# 주민번호와 같이 명확한 패턴을 가진 경우 정규식 통해 간편하게 인식 할 수 있음\n",
        "# 텍스트에서 특정 패턴 찾아내기\n",
        "# 정규식을 만들기 위해선 regular expression 정규식 라이브러리 안에 complie 함수 사용 정규식을 이용해서 인식하는 함수 만들 수 있음\n",
        "# 어떤 패턴을 읽을건지 정규 표현식을 통해 명시를 해주게 되어있음\n",
        "# 정규표현식은 r이라는 키워드가 앞에 붙은 string 형태 6자리의 숫자-7자리의 숫자\n",
        "# 마스킹할 때 앞에것과 뒤에것을 다르게 할 것이기 때문에 괄호를 묶어 앞에자리 6개를 첫번째 그룹 뒤에자리 7개를 두번째그룹으로 인식하는 정규표현식을 만듦\n",
        "pattern = re.compile(r'(\\d{6})-(\\d{7})')\n",
        "\n",
        "## 주민등록번호 마스킹\n",
        "# 패턴만들어 적용해서 저 규칙에 나오는 텍스트 있으면 마스킹\n",
        "# 패턴 생성했으니 패턴을 통해서 앞에서 읽은 content에 있는 모든걸 살펴보고 패턴에 매칭되어있는 것을 바꿔주는 코드\n",
        "\n",
        "\n",
        "## 마스킹된 파일(callcenter20250301_masked.log) 오픈 및 쓰기\n",
        "\n",
        "\n",
        "print(\"주민등록번호 마스킹 완료. 'callcenter20250301_masked.log.txt' 파일로 저장되었습니다.\")"
      ],
      "metadata": {
        "id": "60qOf7uxVdAg"
      },
      "execution_count": null,
      "outputs": []
    },
    {
      "cell_type": "markdown",
      "source": [
        "## 4-4 Open-Meteo의 무료 날씨 API를 통한 특정 지역 온도 조회"
      ],
      "metadata": {
        "id": "eOMufu5SXiAU"
      }
    },
    {
      "cell_type": "code",
      "source": [
        "import requests\n",
        "import json\n",
        "\n",
        "url = \"https://api.open-meteo.com/v1/forecast?=&=&current=temperature_2m\"\n",
        "params = {\n",
        "    \"latitude\": \"37.58638333\",\n",
        "    \"longitude\": \"127.0203333\",\n",
        "    \"current\": \"temperature_2m\"\n",
        "}\n",
        "\n",
        "try:\n",
        "    ## URL 및 파라미터 전송\n",
        "\n",
        "    ## JSON 데이터 읽기\n",
        "\n",
        "    print(\"API 응답:\", data)\n",
        "    print(\"서울시 종로구의 현재 온도는 : {0}{1} 입니다.\".format(data['current']['temperature_2m'], data['current_units']['temperature_2m']))\n",
        "\n",
        "except requests.exceptions.RequestException as e:\n",
        "    print(f\"API 호출 실패: {e}\")\n",
        "except json.JSONDecodeError as e:\n",
        "    print(f\"JSON 파싱 실패: {e}\")"
      ],
      "metadata": {
        "id": "JpmgdsW9V0CY"
      },
      "execution_count": null,
      "outputs": []
    },
    {
      "cell_type": "markdown",
      "source": [
        "## 4-5 Selenium과 lxml을 이용한 웹 스크래핑"
      ],
      "metadata": {
        "id": "RLfPaa1ZiqIC"
      }
    },
    {
      "cell_type": "code",
      "source": [
        "!curl -o google-chrome-stable_current_amd64.deb https://dl.google.com/linux/direct/google-chrome-stable_current_amd64.deb\n",
        "!apt install ./google-chrome-stable_current_amd64.deb -y\n",
        "!pip install selenium webdriver_manager"
      ],
      "metadata": {
        "id": "79dmM7MNk8pB"
      },
      "execution_count": null,
      "outputs": []
    },
    {
      "cell_type": "code",
      "source": [
        "from selenium import webdriver\n",
        "from selenium.webdriver.chrome.service import Service as ChromeService\n",
        "from webdriver_manager.chrome import ChromeDriverManager\n",
        "from selenium.webdriver.common.by import By\n",
        "from lxml import html\n",
        "import time\n",
        "\n",
        "chrome_options = webdriver.ChromeOptions()\n",
        "chrome_options.add_argument('--headless')               # 브라우저 창 없이 실행\n",
        "chrome_options.add_argument('--no-sandbox')             # 보안모드 비활성화 (Colab 필수)\n",
        "chrome_options.add_argument('--disable-dev-shm-usage')  # 메모리 부족 방지 (Colab 필수)\n",
        "chrome_options.add_argument('--window-size=1920x1080')  # 창 크기 설정(가상)\n",
        "chrome_options.add_argument('--disable-gpu')            # GPU 가속 비활성화 (일부 환경 안정성)\n",
        "chrome_options.binary_location = \"/usr/bin/google-chrome-stable\"  # Colab용 크롬 경로 지정\n",
        "\n",
        "## 드라이버 실행\n",
        "driver = webdriver.Chrome(options=chrome_options)\n",
        "\n",
        "## 사이트 접속\n",
        "\n",
        "\n",
        "## 사이트 접속 대기\n",
        "\n",
        "\n",
        "## 페이지 제목 출력\n",
        "\n",
        "\n",
        "## 드라이버 종료\n",
        "driver.quit()"
      ],
      "metadata": {
        "id": "cRC8x3_iW0im"
      },
      "execution_count": null,
      "outputs": []
    },
    {
      "cell_type": "markdown",
      "source": [
        "\n",
        "# 실습 시나리오"
      ],
      "metadata": {
        "id": "Bu6OMZyGirOq"
      }
    },
    {
      "cell_type": "markdown",
      "source": [
        "## 공공데이터 포털 가입 및 데이터 신청\n",
        "\n",
        "- [https://www.data.go.kr](https://www.data.go.kr)\n",
        "- 한국환경공단 에어코리아 대기오염정보 데이터 신청"
      ],
      "metadata": {
        "id": "nsuqRN9RkZlW"
      }
    },
    {
      "cell_type": "code",
      "source": [
        "import requests\n",
        "\n",
        "## 데이터 수집 url 및 api key 설정\n",
        "\n",
        "\n",
        "params = {\n",
        "    'serviceKey': api_key,\n",
        "    'returnType': 'json',\n",
        "    'numOfRows': '100',\n",
        "    'pageNo': '1',\n",
        "    'sidoName': '서울',\n",
        "    'ver': '1.0'\n",
        "}\n",
        "\n",
        "## 데이터 수집\n",
        "\n",
        "## 호출 성공/실패 출력\n",
        "\n"
      ],
      "metadata": {
        "id": "7yCozmQeXJcO"
      },
      "execution_count": null,
      "outputs": []
    }
  ]
}